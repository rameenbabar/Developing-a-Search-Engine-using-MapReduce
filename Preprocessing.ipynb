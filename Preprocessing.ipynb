{
 "cells": [
  {
   "cell_type": "code",
   "execution_count": null,
   "id": "d7d76dfa-208d-4e71-b8ce-55e97ec232f4",
   "metadata": {},
   "outputs": [],
   "source": [
    "import pandas as pd\n",
    "import nltk\n",
    "from nltk.tokenize import word_tokenize\n",
    "import re\n",
    "\n",
    "df = pd.read_csv('subset.csv')\n",
    "\n",
    "def preprocess_text(text):\n",
    "    text = text.lower()\n",
    "    text = re.sub(r'[^a-zA-Z\\s]', '', text)\n",
    "    tokens = word_tokenize(text)\n",
    "    tokens = [token for token in tokens if token.strip()]\n",
    "    return tokens\n",
    "\n",
    "df['SECTION_TEXT'] = df['SECTION_TEXT'].apply(lambda x: preprocess_text(x))\n",
    "\n",
    "#empty dictionary to store unique words and their term frequencies\n",
    "word_to_index = {}\n",
    "#calculate term frequency for each word\n",
    "for idx, tokens_list in enumerate(df['SECTION_TEXT']):\n",
    "    # Initialize a dictionary to store term frequencies for this section text\n",
    "    term_frequency = {}\n",
    "    for word in tokens_list:\n",
    "        # Increment the term frequency for the word in this section text\n",
    "        term_frequency[word] = term_frequency.get(word, 0) + 1\n",
    "        # If the word is not already in word_to_index dictionary, add it with its index\n",
    "        if word not in word_to_index:\n",
    "            word_to_index[word] = len(word_to_index)  # Assign a unique index to each unique word\n",
    "\n",
    "#vocabulary\n",
    "print(\"Vocabulary:\")\n",
    "for word, idx in sorted(word_to_index.items(), key=lambda x: x[1]):\n",
    "    print(idx, word)\n",
    "print(\"\\n\")\n",
    "\n",
    "for idx, tokens_list in enumerate(df['SECTION_TEXT']):\n",
    "    # Initialize a dictionary to store term frequencies for this section text\n",
    "    term_frequency = {}\n",
    "    for word in tokens_list:\n",
    "        # Increment the term frequency for the word in this section text\n",
    "        term_frequency[word] = term_frequency.get(word, 0) + 1\n",
    "\n",
    "    print(f\"Term frequencies for Section {df['ARTICLE_ID'][idx]}:\")\n",
    "    for word, frequency in term_frequency.items():\n",
    "        print(f\"({word_to_index[word]}, {frequency})\", end=\", \")\n",
    "    print(\"\\n\")"
   ]
  }
 ],
 "metadata": {
  "kernelspec": {
   "display_name": "Python 3 (ipykernel)",
   "language": "python",
   "name": "python3"
  },
  "language_info": {
   "codemirror_mode": {
    "name": "ipython",
    "version": 3
   },
   "file_extension": ".py",
   "mimetype": "text/x-python",
   "name": "python",
   "nbconvert_exporter": "python",
   "pygments_lexer": "ipython3",
   "version": "3.12.1"
  }
 },
 "nbformat": 4,
 "nbformat_minor": 5
}
